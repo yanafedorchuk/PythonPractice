{
 "cells": [
  {
   "cell_type": "markdown",
   "metadata": {},
   "source": [
    "# Базовая часть"
   ]
  },
  {
   "cell_type": "markdown",
   "metadata": {},
   "source": [
    "## Задание 1.1\n",
    "\n",
    "Напишите функцию, которая принимает список чисел my_list (количество товаров разных марок) и число $n$ и возвращает сумму всех чисел списка меньше либо равных $n$ (суммарное количество товаров, которых в наличие меньше либо равно $n$)."
   ]
  },
  {
   "cell_type": "code",
   "execution_count": 1,
   "metadata": {},
   "outputs": [],
   "source": [
    "import numpy as np\n",
    "def function_1_1(my_list, n):\n",
    "    b=np.array([])\n",
    "    for i in my_list:\n",
    "        if i<=n:\n",
    "            b=np.append(b,i)\n",
    "    return int(np.sum(b))"
   ]
  },
  {
   "cell_type": "code",
   "execution_count": 2,
   "metadata": {},
   "outputs": [
    {
     "data": {
      "text/plain": [
       "True"
      ]
     },
     "execution_count": 2,
     "metadata": {},
     "output_type": "execute_result"
    }
   ],
   "source": [
    "function_1_1([1, 2, 3, 4, 5, 6, 3, 7], 7) ==31"
   ]
  },
  {
   "cell_type": "code",
   "execution_count": 3,
   "metadata": {},
   "outputs": [
    {
     "data": {
      "text/plain": [
       "True"
      ]
     },
     "execution_count": 3,
     "metadata": {},
     "output_type": "execute_result"
    }
   ],
   "source": [
    "function_1_1([1, 2, 3, 4, 4, 3, 2, 1], 7) == 20"
   ]
  },
  {
   "cell_type": "code",
   "execution_count": 4,
   "metadata": {},
   "outputs": [
    {
     "data": {
      "text/plain": [
       "True"
      ]
     },
     "execution_count": 4,
     "metadata": {},
     "output_type": "execute_result"
    }
   ],
   "source": [
    "function_1_1([1, 2, 3, 4, 4, 3, 2, 1], 3) == 12"
   ]
  },
  {
   "cell_type": "code",
   "execution_count": 5,
   "metadata": {},
   "outputs": [
    {
     "data": {
      "text/plain": [
       "True"
      ]
     },
     "execution_count": 5,
     "metadata": {},
     "output_type": "execute_result"
    }
   ],
   "source": [
    "function_1_1([1, 2, 3, 4, 5, 6, 3, 7], 5) == 18"
   ]
  },
  {
   "cell_type": "code",
   "execution_count": 6,
   "metadata": {},
   "outputs": [
    {
     "data": {
      "text/plain": [
       "True"
      ]
     },
     "execution_count": 6,
     "metadata": {},
     "output_type": "execute_result"
    }
   ],
   "source": [
    "function_1_1([1, 2, 3, 4, 5, 6, 3, 7], 3) == 9"
   ]
  },
  {
   "cell_type": "code",
   "execution_count": 7,
   "metadata": {},
   "outputs": [
    {
     "data": {
      "text/plain": [
       "True"
      ]
     },
     "execution_count": 7,
     "metadata": {},
     "output_type": "execute_result"
    }
   ],
   "source": [
    "function_1_1([1, 2, 3, 4, 5, 6, 3, 7], 0) == 0"
   ]
  },
  {
   "cell_type": "markdown",
   "metadata": {},
   "source": [
    "#### Значение для формы"
   ]
  },
  {
   "cell_type": "code",
   "execution_count": 8,
   "metadata": {},
   "outputs": [
    {
     "name": "stdout",
     "output_type": "stream",
     "text": [
      "2496584\n"
     ]
    }
   ],
   "source": [
    "import random\n",
    "\n",
    "random.seed(42)\n",
    "print(function_1_1([random.randint(0, 1000) for _ in range(10000)], 700))"
   ]
  },
  {
   "cell_type": "markdown",
   "metadata": {},
   "source": [
    "## Задание 1.2\n",
    "\n",
    "Имеется список пар (фамилия, долг) $my\\_list$ и число $dept$. Нужно написать функцию, которая для каждой фамилии находит суммарный долг и выводит отсортированный список фамилий, у которых долг строго больше $dept$.\n",
    "\n",
    "Одна и та же фамилия может встречаться несколько раз, и тогда долги по ней суммируются."
   ]
  },
  {
   "cell_type": "code",
   "execution_count": 9,
   "metadata": {},
   "outputs": [],
   "source": [
    "import numpy as np\n",
    "\n",
    "def function_1_2(my_list, dept):\n",
    "    data = [my_list[i][1] for i in range(len(my_list)) ]\n",
    "    groups = [my_list[i][0] for i in range(len(my_list)) ]\n",
    "    x, y = np.meshgrid(groups, np.unique(groups))\n",
    "    data_stack = np.tile(data, (np.unique(groups).size, 1))\n",
    "\n",
    "    data_in_group = np.zeros_like(data_stack)\n",
    "    data_in_group[x==y] = data_stack[x==y]\n",
    "\n",
    "    sums = data_in_group.sum(axis=1)\n",
    "\n",
    "\n",
    "    return np.unique(groups)[sums > dept].tolist()"
   ]
  },
  {
   "cell_type": "code",
   "execution_count": 10,
   "metadata": {},
   "outputs": [
    {
     "data": {
      "text/plain": [
       "True"
      ]
     },
     "execution_count": 10,
     "metadata": {},
     "output_type": "execute_result"
    }
   ],
   "source": [
    "function_1_2([('Ivanov', 1), ('Petrov', 2), ('Ivanov', 2), ('Sidorov', 4)], 1)==['Ivanov', 'Petrov', 'Sidorov']"
   ]
  },
  {
   "cell_type": "code",
   "execution_count": 11,
   "metadata": {},
   "outputs": [
    {
     "data": {
      "text/plain": [
       "True"
      ]
     },
     "execution_count": 11,
     "metadata": {},
     "output_type": "execute_result"
    }
   ],
   "source": [
    "function_1_2([('Ivanov', 1), ('Petrov', 2), ('Ivanov', 2), ('Sidorov', 4)], 2) == ['Ivanov', 'Sidorov']"
   ]
  },
  {
   "cell_type": "code",
   "execution_count": 12,
   "metadata": {},
   "outputs": [
    {
     "data": {
      "text/plain": [
       "True"
      ]
     },
     "execution_count": 12,
     "metadata": {},
     "output_type": "execute_result"
    }
   ],
   "source": [
    "function_1_2([('Ivanov', 1), ('Petrov', 2), ('Ivanov', 2), ('Sidorov', 4)], 3) == ['Sidorov']"
   ]
  },
  {
   "cell_type": "code",
   "execution_count": 13,
   "metadata": {},
   "outputs": [
    {
     "data": {
      "text/plain": [
       "True"
      ]
     },
     "execution_count": 13,
     "metadata": {},
     "output_type": "execute_result"
    }
   ],
   "source": [
    "function_1_2([('Ivanov', 1), ('Petrov', 2), ('Ivanov', 2), ('Sidorov', 4)], 4) == []"
   ]
  },
  {
   "cell_type": "code",
   "execution_count": 14,
   "metadata": {},
   "outputs": [
    {
     "data": {
      "text/plain": [
       "True"
      ]
     },
     "execution_count": 14,
     "metadata": {},
     "output_type": "execute_result"
    }
   ],
   "source": [
    "function_1_2([('Ivanov', 1), ('Petrov', 2), ('Ivanov', 1), ('Sidorov', 4)], 2) == ['Sidorov']"
   ]
  },
  {
   "cell_type": "code",
   "execution_count": 15,
   "metadata": {},
   "outputs": [
    {
     "data": {
      "text/plain": [
       "True"
      ]
     },
     "execution_count": 15,
     "metadata": {},
     "output_type": "execute_result"
    }
   ],
   "source": [
    "function_1_2([('Ivanov', 1), ('Petrov', 2), ('Ivanov', 2), ('Petrov', 4)], 2) == ['Ivanov', 'Petrov']"
   ]
  },
  {
   "cell_type": "code",
   "execution_count": 16,
   "metadata": {},
   "outputs": [
    {
     "data": {
      "text/plain": [
       "True"
      ]
     },
     "execution_count": 16,
     "metadata": {},
     "output_type": "execute_result"
    }
   ],
   "source": [
    "function_1_2([('Ivanov', 1), ('Petrov', 2), ('Ivanov', 2), ('Petrov', 4)], 3) == ['Petrov']"
   ]
  },
  {
   "cell_type": "markdown",
   "metadata": {},
   "source": [
    "#### Значение для формы"
   ]
  },
  {
   "cell_type": "code",
   "execution_count": 17,
   "metadata": {},
   "outputs": [
    {
     "name": "stdout",
     "output_type": "stream",
     "text": [
      "10,11,14,18,19,3,4,5,8,9\n"
     ]
    }
   ],
   "source": [
    "import random\n",
    "import numpy as np\n",
    "\n",
    "\n",
    "random.seed(42)\n",
    "print(','.join(function_1_2([\n",
    "    (str(random.randint(1, 20)), random.randint(1, 1000) )\n",
    "    for _ in range(1000)\n",
    "], 25000)))"
   ]
  },
  {
   "cell_type": "markdown",
   "metadata": {},
   "source": [
    "# Продвинутая часть"
   ]
  },
  {
   "cell_type": "markdown",
   "metadata": {},
   "source": [
    "## Задание 2.1\n",
    "\n",
    "Напишите функцию, принимающую число $n$ и считающую $n!$, не используя модуль math\n",
    "\n",
    "$n! = 1 \\cdot 2 \\cdot 3 \\cdot \\dots \\cdot (n - 1) \\cdot n$\n",
    "\n",
    "Подсказка: воспользуйтесь циклами"
   ]
  },
  {
   "cell_type": "code",
   "execution_count": 18,
   "metadata": {},
   "outputs": [],
   "source": [
    "def function_2_1(n):\n",
    "    if n == 0:\n",
    "        return 1\n",
    "    else:\n",
    "        return n * function_2_1(n-1)"
   ]
  },
  {
   "cell_type": "code",
   "execution_count": 19,
   "metadata": {},
   "outputs": [
    {
     "data": {
      "text/plain": [
       "True"
      ]
     },
     "execution_count": 19,
     "metadata": {},
     "output_type": "execute_result"
    }
   ],
   "source": [
    "function_2_1(3) == 6"
   ]
  },
  {
   "cell_type": "code",
   "execution_count": 20,
   "metadata": {},
   "outputs": [
    {
     "data": {
      "text/plain": [
       "True"
      ]
     },
     "execution_count": 20,
     "metadata": {},
     "output_type": "execute_result"
    }
   ],
   "source": [
    "function_2_1(5) == 120"
   ]
  },
  {
   "cell_type": "code",
   "execution_count": 21,
   "metadata": {},
   "outputs": [
    {
     "data": {
      "text/plain": [
       "True"
      ]
     },
     "execution_count": 21,
     "metadata": {},
     "output_type": "execute_result"
    }
   ],
   "source": [
    "function_2_1(9) == 362880"
   ]
  },
  {
   "cell_type": "code",
   "execution_count": 22,
   "metadata": {},
   "outputs": [
    {
     "data": {
      "text/plain": [
       "True"
      ]
     },
     "execution_count": 22,
     "metadata": {},
     "output_type": "execute_result"
    }
   ],
   "source": [
    "function_2_1(13) == 6227020800"
   ]
  },
  {
   "cell_type": "markdown",
   "metadata": {},
   "source": [
    "#### Значение для формы"
   ]
  },
  {
   "cell_type": "code",
   "execution_count": 23,
   "metadata": {},
   "outputs": [
    {
     "name": "stdout",
     "output_type": "stream",
     "text": [
      "93326215443944152681699238856266700490715968264381621468592963895217599993229915608941463976156518286253697920827223758251185210916864000000000000000000000000\n"
     ]
    }
   ],
   "source": [
    "print(function_2_1(100))"
   ]
  },
  {
   "cell_type": "markdown",
   "metadata": {},
   "source": [
    "## Задание 2.2\n",
    "\n",
    "Есть два списка чисел: цены товаров в одном магазине и цены товаров в другом магазине.\n",
    "\n",
    "Нужно сравнить средние (среднее берётся по всем товарам) цены, минимальные цены и максимальные  в магазинах. Если первое зачение меньше надо вернуть 'First', если второе, то 'Second', а если равны, то 'Equal'\n",
    "\n",
    "Например, function_2_2([1, 2, 3], [2, 2, 2])\n",
    "\n",
    "В первом магазине среднее значение 2, минимальное 1, максимальное 3. А во втором среднее 2, минимальное 2 и максимальное 2.\n",
    "\n",
    "Результаты сравнения $2 = 2,~1 < 2,~3 > 2$, поэтому нужно вернуть  ('Equal', 'First', 'Second')"
   ]
  },
  {
   "cell_type": "code",
   "execution_count": 24,
   "metadata": {},
   "outputs": [],
   "source": [
    "def function_2_2(list1, list2):\n",
    "    b=np.array([])\n",
    "    mn1=min(list1)\n",
    "    mn2=min(list2)\n",
    "    mx1=max(list1)\n",
    "    mx2=max(list2)\n",
    "    mean1=sum(list1)/len(list1)\n",
    "    mean2=sum(list2)/len(list2)\n",
    "    if mean1==mean2:\n",
    "        b=np.append(b, 'Equal')\n",
    "    elif mean1>mean2:\n",
    "        b=np.append(b, 'Second')\n",
    "    else:\n",
    "        b=np.append(b, 'First')\n",
    "    if mn1==mn2:\n",
    "        b=np.append(b, 'Equal')\n",
    "    elif mn1>mn2:\n",
    "        b=np.append(b, 'Second')\n",
    "    else:\n",
    "        b=np.append(b, 'First')\n",
    "    if mx1==mx2:\n",
    "        b=np.append(b, 'Equal')\n",
    "    elif mx1>mx2:\n",
    "        b=np.append(b, 'Second')\n",
    "    else:\n",
    "        b=np.append(b, 'First')\n",
    "\n",
    "    return b\n"
   ]
  },
  {
   "cell_type": "code",
   "execution_count": 25,
   "metadata": {},
   "outputs": [
    {
     "data": {
      "text/plain": [
       "array([ True,  True,  True])"
      ]
     },
     "execution_count": 25,
     "metadata": {},
     "output_type": "execute_result"
    }
   ],
   "source": [
    "function_2_2([1, 2, 3], [2, 2, 2])==('Equal', 'First', 'Second')"
   ]
  },
  {
   "cell_type": "code",
   "execution_count": 26,
   "metadata": {},
   "outputs": [
    {
     "data": {
      "text/plain": [
       "array([ True,  True,  True])"
      ]
     },
     "execution_count": 26,
     "metadata": {},
     "output_type": "execute_result"
    }
   ],
   "source": [
    "function_2_2([2, 2, 1], [4])==('First', 'First', 'First')"
   ]
  },
  {
   "cell_type": "code",
   "execution_count": 27,
   "metadata": {},
   "outputs": [
    {
     "data": {
      "text/plain": [
       "array([ True,  True,  True])"
      ]
     },
     "execution_count": 27,
     "metadata": {},
     "output_type": "execute_result"
    }
   ],
   "source": [
    "function_2_2([3, 5], [2, 4, 6]) == ('Equal', 'Second', 'First')"
   ]
  },
  {
   "cell_type": "code",
   "execution_count": 28,
   "metadata": {},
   "outputs": [
    {
     "data": {
      "text/plain": [
       "array([ True,  True,  True])"
      ]
     },
     "execution_count": 28,
     "metadata": {},
     "output_type": "execute_result"
    }
   ],
   "source": [
    "function_2_2([1, 7], [2, 4, 7]) == ('First', 'First', 'Equal')"
   ]
  },
  {
   "cell_type": "markdown",
   "metadata": {},
   "source": [
    "#### Значение для формы"
   ]
  },
  {
   "cell_type": "code",
   "execution_count": 29,
   "metadata": {},
   "outputs": [
    {
     "name": "stdout",
     "output_type": "stream",
     "text": [
      "Second,First,Second\n"
     ]
    }
   ],
   "source": [
    "import random\n",
    "\n",
    "random.seed(47)\n",
    "print(','.join(function_2_2(\n",
    "    [random.randint(0, 100000) for _ in range(1000)],\n",
    "    [random.randint(0, 100000) for _ in range(1000)]\n",
    ")))"
   ]
  },
  {
   "cell_type": "markdown",
   "metadata": {},
   "source": [
    "# Сложная часть"
   ]
  },
  {
   "cell_type": "markdown",
   "metadata": {},
   "source": [
    "## Задание 3.1\n",
    "\n",
    "Вам известны количество продаж разных товаров. Они представлены в виде списка, первое значение - число продаж первого товара, второе значение - второго, и так далее. Вы хотите посмотреть на список самых популярных товаров среди тех, у которых объём продаж не выше заданного числа.\n",
    "\n",
    "Напишите функцию, которая принимает список чисел my_list, число  $n$ и число $k$  и возвращает сумму $k$ наибольших чисел среди всех чисел списка меньше либо равных  $n$ ."
   ]
  },
  {
   "cell_type": "code",
   "execution_count": 30,
   "metadata": {},
   "outputs": [],
   "source": [
    "from heapq import nlargest\n",
    "def function_3_1(my_list, n, k):\n",
    "    b=np.array([])\n",
    "    for i in my_list:\n",
    "        if i<=n:\n",
    "            b=np.append(b,i)\n",
    "    return sum(nlargest(k,b))"
   ]
  },
  {
   "cell_type": "code",
   "execution_count": 31,
   "metadata": {},
   "outputs": [
    {
     "data": {
      "text/plain": [
       "True"
      ]
     },
     "execution_count": 31,
     "metadata": {},
     "output_type": "execute_result"
    }
   ],
   "source": [
    "function_3_1([1, 2, 3, 4, 5, 6, 3, 7], 7, 1)==7"
   ]
  },
  {
   "cell_type": "code",
   "execution_count": 32,
   "metadata": {},
   "outputs": [
    {
     "data": {
      "text/plain": [
       "True"
      ]
     },
     "execution_count": 32,
     "metadata": {},
     "output_type": "execute_result"
    }
   ],
   "source": [
    "function_3_1([1, 2, 3, 4, 5, 6, 3, 7], 7, 3) == 18"
   ]
  },
  {
   "cell_type": "code",
   "execution_count": 33,
   "metadata": {},
   "outputs": [
    {
     "data": {
      "text/plain": [
       "True"
      ]
     },
     "execution_count": 33,
     "metadata": {},
     "output_type": "execute_result"
    }
   ],
   "source": [
    "function_3_1([1, 2, 3, 4, 5, 6, 3, 7], 7, 5) == 25"
   ]
  },
  {
   "cell_type": "code",
   "execution_count": 34,
   "metadata": {},
   "outputs": [
    {
     "data": {
      "text/plain": [
       "True"
      ]
     },
     "execution_count": 34,
     "metadata": {},
     "output_type": "execute_result"
    }
   ],
   "source": [
    "function_3_1([1, 2, 3, 4, 5, 6, 3, 7], 7, 8) == 31"
   ]
  },
  {
   "cell_type": "code",
   "execution_count": 35,
   "metadata": {},
   "outputs": [
    {
     "data": {
      "text/plain": [
       "True"
      ]
     },
     "execution_count": 35,
     "metadata": {},
     "output_type": "execute_result"
    }
   ],
   "source": [
    "function_3_1([1, 2, 3, 4, 5, 6, 3, 7], 7, 10) == 31"
   ]
  },
  {
   "cell_type": "code",
   "execution_count": 36,
   "metadata": {},
   "outputs": [
    {
     "data": {
      "text/plain": [
       "True"
      ]
     },
     "execution_count": 36,
     "metadata": {},
     "output_type": "execute_result"
    }
   ],
   "source": [
    "function_3_1([1, 5, 3, 6, 5, 6, 3, 6], 6, 3) == 18"
   ]
  },
  {
   "cell_type": "code",
   "execution_count": 37,
   "metadata": {},
   "outputs": [
    {
     "data": {
      "text/plain": [
       "True"
      ]
     },
     "execution_count": 37,
     "metadata": {},
     "output_type": "execute_result"
    }
   ],
   "source": [
    "function_3_1([1, 5, 3, 6, 5, 6, 3, 6], 5, 3) == 13"
   ]
  },
  {
   "cell_type": "code",
   "execution_count": 38,
   "metadata": {},
   "outputs": [
    {
     "data": {
      "text/plain": [
       "True"
      ]
     },
     "execution_count": 38,
     "metadata": {},
     "output_type": "execute_result"
    }
   ],
   "source": [
    "function_3_1([1, 5, 3, 6, 5, 6, 3, 6], 4, 3) == 7"
   ]
  },
  {
   "cell_type": "code",
   "execution_count": 39,
   "metadata": {},
   "outputs": [
    {
     "data": {
      "text/plain": [
       "True"
      ]
     },
     "execution_count": 39,
     "metadata": {},
     "output_type": "execute_result"
    }
   ],
   "source": [
    "function_3_1([1, 5, 3, 6, 5, 6, 3, 6], 6, 2) == 12"
   ]
  },
  {
   "cell_type": "code",
   "execution_count": 40,
   "metadata": {},
   "outputs": [
    {
     "data": {
      "text/plain": [
       "True"
      ]
     },
     "execution_count": 40,
     "metadata": {},
     "output_type": "execute_result"
    }
   ],
   "source": [
    "function_3_1([1, 5, 3, 6, 5, 6, 3, 6], 5, 2) == 10"
   ]
  },
  {
   "cell_type": "code",
   "execution_count": 41,
   "metadata": {},
   "outputs": [
    {
     "data": {
      "text/plain": [
       "True"
      ]
     },
     "execution_count": 41,
     "metadata": {},
     "output_type": "execute_result"
    }
   ],
   "source": [
    "function_3_1([1, 5, 3, 6, 5, 6, 3, 6], 4, 2) == 6"
   ]
  },
  {
   "cell_type": "markdown",
   "metadata": {},
   "source": [
    "#### Значение для формы"
   ]
  },
  {
   "cell_type": "code",
   "execution_count": 42,
   "metadata": {},
   "outputs": [
    {
     "name": "stdout",
     "output_type": "stream",
     "text": [
      "205778.0\n"
     ]
    }
   ],
   "source": [
    "import random\n",
    "\n",
    "random.seed(42)\n",
    "print(function_3_1([random.randint(0, 1000) for _ in range(10000)], 700, 300))"
   ]
  },
  {
   "cell_type": "markdown",
   "metadata": {},
   "source": [
    "## Задание 3.2\n",
    "\n",
    "Напишите списковое выражение, генерирующее все простые числа не больше заданного числа"
   ]
  },
  {
   "cell_type": "code",
   "execution_count": 43,
   "metadata": {},
   "outputs": [
    {
     "data": {
      "text/plain": [
       "array([2., 3.])"
      ]
     },
     "execution_count": 43,
     "metadata": {},
     "output_type": "execute_result"
    }
   ],
   "source": [
    "def isPrime(n): \n",
    "    \n",
    "    if n <= 1 : \n",
    "        return False\n",
    "\n",
    "    # check from 2 to n-1 \n",
    "    for i in range(2, n): \n",
    "        if n % i == 0: \n",
    "            return False\n",
    "\n",
    "    return True\n",
    "\n",
    "# Function that prints primes \n",
    "def function_3_2(n): \n",
    "    b=np.array([])\n",
    "    for i in range(2, n + 1): \n",
    "        if isPrime(i): \n",
    "            b=np.append(b,i)\n",
    "    return b\n",
    "function_3_2(3)\n",
    "\n",
    "\n"
   ]
  },
  {
   "cell_type": "code",
   "execution_count": 44,
   "metadata": {},
   "outputs": [
    {
     "data": {
      "text/plain": [
       "array([ True,  True])"
      ]
     },
     "execution_count": 44,
     "metadata": {},
     "output_type": "execute_result"
    }
   ],
   "source": [
    "function_3_2(3) == [2, 3]"
   ]
  },
  {
   "cell_type": "code",
   "execution_count": 45,
   "metadata": {},
   "outputs": [
    {
     "data": {
      "text/plain": [
       "array([ True,  True,  True,  True])"
      ]
     },
     "execution_count": 45,
     "metadata": {},
     "output_type": "execute_result"
    }
   ],
   "source": [
    "function_3_2(10) == [2, 3, 5, 7]"
   ]
  },
  {
   "cell_type": "code",
   "execution_count": 46,
   "metadata": {},
   "outputs": [
    {
     "data": {
      "text/plain": [
       "array([ True,  True,  True,  True,  True,  True,  True,  True])"
      ]
     },
     "execution_count": 46,
     "metadata": {},
     "output_type": "execute_result"
    }
   ],
   "source": [
    "function_3_2(20) == [2, 3, 5, 7, 11, 13, 17, 19]"
   ]
  },
  {
   "cell_type": "markdown",
   "metadata": {},
   "source": [
    "#### Значение для формы"
   ]
  },
  {
   "cell_type": "code",
   "execution_count": 47,
   "metadata": {},
   "outputs": [
    {
     "name": "stdout",
     "output_type": "stream",
     "text": [
      "5736396.0\n"
     ]
    }
   ],
   "source": [
    "print(sum(function_3_2(10000)))"
   ]
  },
  {
   "cell_type": "markdown",
   "metadata": {},
   "source": [
    "# По хардкору"
   ]
  },
  {
   "cell_type": "markdown",
   "metadata": {},
   "source": [
    "## Задание 4.1\n",
    "\n",
    "Напишите функцию, которая по множеству, возвращает список всех его подмножеств"
   ]
  },
  {
   "cell_type": "code",
   "execution_count": 64,
   "metadata": {},
   "outputs": [],
   "source": [
    "from itertools import chain, combinations\n",
    "def function_4_1(my_set):\n",
    "    \n",
    "    \"list(powerset([1,2,3])) --> [(), (1,), (2,), (3,), (1,2), (1,3), (2,3), (1,2,3)]\"\n",
    "    s = list(my_set)\n",
    "    return chain.from_iterable(combinations(s, r) for r in range(len(s)+1))"
   ]
  },
  {
   "cell_type": "code",
   "execution_count": 65,
   "metadata": {},
   "outputs": [
    {
     "data": {
      "text/plain": [
       "[(),\n",
       " (0,),\n",
       " (1,),\n",
       " (2,),\n",
       " (3,),\n",
       " (4,),\n",
       " (5,),\n",
       " (6,),\n",
       " (7,),\n",
       " (8,),\n",
       " (9,),\n",
       " (0, 1),\n",
       " (0, 2),\n",
       " (0, 3),\n",
       " (0, 4),\n",
       " (0, 5),\n",
       " (0, 6),\n",
       " (0, 7),\n",
       " (0, 8),\n",
       " (0, 9),\n",
       " (1, 2),\n",
       " (1, 3),\n",
       " (1, 4),\n",
       " (1, 5),\n",
       " (1, 6),\n",
       " (1, 7),\n",
       " (1, 8),\n",
       " (1, 9),\n",
       " (2, 3),\n",
       " (2, 4),\n",
       " (2, 5),\n",
       " (2, 6),\n",
       " (2, 7),\n",
       " (2, 8),\n",
       " (2, 9),\n",
       " (3, 4),\n",
       " (3, 5),\n",
       " (3, 6),\n",
       " (3, 7),\n",
       " (3, 8),\n",
       " (3, 9),\n",
       " (4, 5),\n",
       " (4, 6),\n",
       " (4, 7),\n",
       " (4, 8),\n",
       " (4, 9),\n",
       " (5, 6),\n",
       " (5, 7),\n",
       " (5, 8),\n",
       " (5, 9),\n",
       " (6, 7),\n",
       " (6, 8),\n",
       " (6, 9),\n",
       " (7, 8),\n",
       " (7, 9),\n",
       " (8, 9),\n",
       " (0, 1, 2),\n",
       " (0, 1, 3),\n",
       " (0, 1, 4),\n",
       " (0, 1, 5),\n",
       " (0, 1, 6),\n",
       " (0, 1, 7),\n",
       " (0, 1, 8),\n",
       " (0, 1, 9),\n",
       " (0, 2, 3),\n",
       " (0, 2, 4),\n",
       " (0, 2, 5),\n",
       " (0, 2, 6),\n",
       " (0, 2, 7),\n",
       " (0, 2, 8),\n",
       " (0, 2, 9),\n",
       " (0, 3, 4),\n",
       " (0, 3, 5),\n",
       " (0, 3, 6),\n",
       " (0, 3, 7),\n",
       " (0, 3, 8),\n",
       " (0, 3, 9),\n",
       " (0, 4, 5),\n",
       " (0, 4, 6),\n",
       " (0, 4, 7),\n",
       " (0, 4, 8),\n",
       " (0, 4, 9),\n",
       " (0, 5, 6),\n",
       " (0, 5, 7),\n",
       " (0, 5, 8),\n",
       " (0, 5, 9),\n",
       " (0, 6, 7),\n",
       " (0, 6, 8),\n",
       " (0, 6, 9),\n",
       " (0, 7, 8),\n",
       " (0, 7, 9),\n",
       " (0, 8, 9),\n",
       " (1, 2, 3),\n",
       " (1, 2, 4),\n",
       " (1, 2, 5),\n",
       " (1, 2, 6),\n",
       " (1, 2, 7),\n",
       " (1, 2, 8),\n",
       " (1, 2, 9),\n",
       " (1, 3, 4),\n",
       " (1, 3, 5),\n",
       " (1, 3, 6),\n",
       " (1, 3, 7),\n",
       " (1, 3, 8),\n",
       " (1, 3, 9),\n",
       " (1, 4, 5),\n",
       " (1, 4, 6),\n",
       " (1, 4, 7),\n",
       " (1, 4, 8),\n",
       " (1, 4, 9),\n",
       " (1, 5, 6),\n",
       " (1, 5, 7),\n",
       " (1, 5, 8),\n",
       " (1, 5, 9),\n",
       " (1, 6, 7),\n",
       " (1, 6, 8),\n",
       " (1, 6, 9),\n",
       " (1, 7, 8),\n",
       " (1, 7, 9),\n",
       " (1, 8, 9),\n",
       " (2, 3, 4),\n",
       " (2, 3, 5),\n",
       " (2, 3, 6),\n",
       " (2, 3, 7),\n",
       " (2, 3, 8),\n",
       " (2, 3, 9),\n",
       " (2, 4, 5),\n",
       " (2, 4, 6),\n",
       " (2, 4, 7),\n",
       " (2, 4, 8),\n",
       " (2, 4, 9),\n",
       " (2, 5, 6),\n",
       " (2, 5, 7),\n",
       " (2, 5, 8),\n",
       " (2, 5, 9),\n",
       " (2, 6, 7),\n",
       " (2, 6, 8),\n",
       " (2, 6, 9),\n",
       " (2, 7, 8),\n",
       " (2, 7, 9),\n",
       " (2, 8, 9),\n",
       " (3, 4, 5),\n",
       " (3, 4, 6),\n",
       " (3, 4, 7),\n",
       " (3, 4, 8),\n",
       " (3, 4, 9),\n",
       " (3, 5, 6),\n",
       " (3, 5, 7),\n",
       " (3, 5, 8),\n",
       " (3, 5, 9),\n",
       " (3, 6, 7),\n",
       " (3, 6, 8),\n",
       " (3, 6, 9),\n",
       " (3, 7, 8),\n",
       " (3, 7, 9),\n",
       " (3, 8, 9),\n",
       " (4, 5, 6),\n",
       " (4, 5, 7),\n",
       " (4, 5, 8),\n",
       " (4, 5, 9),\n",
       " (4, 6, 7),\n",
       " (4, 6, 8),\n",
       " (4, 6, 9),\n",
       " (4, 7, 8),\n",
       " (4, 7, 9),\n",
       " (4, 8, 9),\n",
       " (5, 6, 7),\n",
       " (5, 6, 8),\n",
       " (5, 6, 9),\n",
       " (5, 7, 8),\n",
       " (5, 7, 9),\n",
       " (5, 8, 9),\n",
       " (6, 7, 8),\n",
       " (6, 7, 9),\n",
       " (6, 8, 9),\n",
       " (7, 8, 9),\n",
       " (0, 1, 2, 3),\n",
       " (0, 1, 2, 4),\n",
       " (0, 1, 2, 5),\n",
       " (0, 1, 2, 6),\n",
       " (0, 1, 2, 7),\n",
       " (0, 1, 2, 8),\n",
       " (0, 1, 2, 9),\n",
       " (0, 1, 3, 4),\n",
       " (0, 1, 3, 5),\n",
       " (0, 1, 3, 6),\n",
       " (0, 1, 3, 7),\n",
       " (0, 1, 3, 8),\n",
       " (0, 1, 3, 9),\n",
       " (0, 1, 4, 5),\n",
       " (0, 1, 4, 6),\n",
       " (0, 1, 4, 7),\n",
       " (0, 1, 4, 8),\n",
       " (0, 1, 4, 9),\n",
       " (0, 1, 5, 6),\n",
       " (0, 1, 5, 7),\n",
       " (0, 1, 5, 8),\n",
       " (0, 1, 5, 9),\n",
       " (0, 1, 6, 7),\n",
       " (0, 1, 6, 8),\n",
       " (0, 1, 6, 9),\n",
       " (0, 1, 7, 8),\n",
       " (0, 1, 7, 9),\n",
       " (0, 1, 8, 9),\n",
       " (0, 2, 3, 4),\n",
       " (0, 2, 3, 5),\n",
       " (0, 2, 3, 6),\n",
       " (0, 2, 3, 7),\n",
       " (0, 2, 3, 8),\n",
       " (0, 2, 3, 9),\n",
       " (0, 2, 4, 5),\n",
       " (0, 2, 4, 6),\n",
       " (0, 2, 4, 7),\n",
       " (0, 2, 4, 8),\n",
       " (0, 2, 4, 9),\n",
       " (0, 2, 5, 6),\n",
       " (0, 2, 5, 7),\n",
       " (0, 2, 5, 8),\n",
       " (0, 2, 5, 9),\n",
       " (0, 2, 6, 7),\n",
       " (0, 2, 6, 8),\n",
       " (0, 2, 6, 9),\n",
       " (0, 2, 7, 8),\n",
       " (0, 2, 7, 9),\n",
       " (0, 2, 8, 9),\n",
       " (0, 3, 4, 5),\n",
       " (0, 3, 4, 6),\n",
       " (0, 3, 4, 7),\n",
       " (0, 3, 4, 8),\n",
       " (0, 3, 4, 9),\n",
       " (0, 3, 5, 6),\n",
       " (0, 3, 5, 7),\n",
       " (0, 3, 5, 8),\n",
       " (0, 3, 5, 9),\n",
       " (0, 3, 6, 7),\n",
       " (0, 3, 6, 8),\n",
       " (0, 3, 6, 9),\n",
       " (0, 3, 7, 8),\n",
       " (0, 3, 7, 9),\n",
       " (0, 3, 8, 9),\n",
       " (0, 4, 5, 6),\n",
       " (0, 4, 5, 7),\n",
       " (0, 4, 5, 8),\n",
       " (0, 4, 5, 9),\n",
       " (0, 4, 6, 7),\n",
       " (0, 4, 6, 8),\n",
       " (0, 4, 6, 9),\n",
       " (0, 4, 7, 8),\n",
       " (0, 4, 7, 9),\n",
       " (0, 4, 8, 9),\n",
       " (0, 5, 6, 7),\n",
       " (0, 5, 6, 8),\n",
       " (0, 5, 6, 9),\n",
       " (0, 5, 7, 8),\n",
       " (0, 5, 7, 9),\n",
       " (0, 5, 8, 9),\n",
       " (0, 6, 7, 8),\n",
       " (0, 6, 7, 9),\n",
       " (0, 6, 8, 9),\n",
       " (0, 7, 8, 9),\n",
       " (1, 2, 3, 4),\n",
       " (1, 2, 3, 5),\n",
       " (1, 2, 3, 6),\n",
       " (1, 2, 3, 7),\n",
       " (1, 2, 3, 8),\n",
       " (1, 2, 3, 9),\n",
       " (1, 2, 4, 5),\n",
       " (1, 2, 4, 6),\n",
       " (1, 2, 4, 7),\n",
       " (1, 2, 4, 8),\n",
       " (1, 2, 4, 9),\n",
       " (1, 2, 5, 6),\n",
       " (1, 2, 5, 7),\n",
       " (1, 2, 5, 8),\n",
       " (1, 2, 5, 9),\n",
       " (1, 2, 6, 7),\n",
       " (1, 2, 6, 8),\n",
       " (1, 2, 6, 9),\n",
       " (1, 2, 7, 8),\n",
       " (1, 2, 7, 9),\n",
       " (1, 2, 8, 9),\n",
       " (1, 3, 4, 5),\n",
       " (1, 3, 4, 6),\n",
       " (1, 3, 4, 7),\n",
       " (1, 3, 4, 8),\n",
       " (1, 3, 4, 9),\n",
       " (1, 3, 5, 6),\n",
       " (1, 3, 5, 7),\n",
       " (1, 3, 5, 8),\n",
       " (1, 3, 5, 9),\n",
       " (1, 3, 6, 7),\n",
       " (1, 3, 6, 8),\n",
       " (1, 3, 6, 9),\n",
       " (1, 3, 7, 8),\n",
       " (1, 3, 7, 9),\n",
       " (1, 3, 8, 9),\n",
       " (1, 4, 5, 6),\n",
       " (1, 4, 5, 7),\n",
       " (1, 4, 5, 8),\n",
       " (1, 4, 5, 9),\n",
       " (1, 4, 6, 7),\n",
       " (1, 4, 6, 8),\n",
       " (1, 4, 6, 9),\n",
       " (1, 4, 7, 8),\n",
       " (1, 4, 7, 9),\n",
       " (1, 4, 8, 9),\n",
       " (1, 5, 6, 7),\n",
       " (1, 5, 6, 8),\n",
       " (1, 5, 6, 9),\n",
       " (1, 5, 7, 8),\n",
       " (1, 5, 7, 9),\n",
       " (1, 5, 8, 9),\n",
       " (1, 6, 7, 8),\n",
       " (1, 6, 7, 9),\n",
       " (1, 6, 8, 9),\n",
       " (1, 7, 8, 9),\n",
       " (2, 3, 4, 5),\n",
       " (2, 3, 4, 6),\n",
       " (2, 3, 4, 7),\n",
       " (2, 3, 4, 8),\n",
       " (2, 3, 4, 9),\n",
       " (2, 3, 5, 6),\n",
       " (2, 3, 5, 7),\n",
       " (2, 3, 5, 8),\n",
       " (2, 3, 5, 9),\n",
       " (2, 3, 6, 7),\n",
       " (2, 3, 6, 8),\n",
       " (2, 3, 6, 9),\n",
       " (2, 3, 7, 8),\n",
       " (2, 3, 7, 9),\n",
       " (2, 3, 8, 9),\n",
       " (2, 4, 5, 6),\n",
       " (2, 4, 5, 7),\n",
       " (2, 4, 5, 8),\n",
       " (2, 4, 5, 9),\n",
       " (2, 4, 6, 7),\n",
       " (2, 4, 6, 8),\n",
       " (2, 4, 6, 9),\n",
       " (2, 4, 7, 8),\n",
       " (2, 4, 7, 9),\n",
       " (2, 4, 8, 9),\n",
       " (2, 5, 6, 7),\n",
       " (2, 5, 6, 8),\n",
       " (2, 5, 6, 9),\n",
       " (2, 5, 7, 8),\n",
       " (2, 5, 7, 9),\n",
       " (2, 5, 8, 9),\n",
       " (2, 6, 7, 8),\n",
       " (2, 6, 7, 9),\n",
       " (2, 6, 8, 9),\n",
       " (2, 7, 8, 9),\n",
       " (3, 4, 5, 6),\n",
       " (3, 4, 5, 7),\n",
       " (3, 4, 5, 8),\n",
       " (3, 4, 5, 9),\n",
       " (3, 4, 6, 7),\n",
       " (3, 4, 6, 8),\n",
       " (3, 4, 6, 9),\n",
       " (3, 4, 7, 8),\n",
       " (3, 4, 7, 9),\n",
       " (3, 4, 8, 9),\n",
       " (3, 5, 6, 7),\n",
       " (3, 5, 6, 8),\n",
       " (3, 5, 6, 9),\n",
       " (3, 5, 7, 8),\n",
       " (3, 5, 7, 9),\n",
       " (3, 5, 8, 9),\n",
       " (3, 6, 7, 8),\n",
       " (3, 6, 7, 9),\n",
       " (3, 6, 8, 9),\n",
       " (3, 7, 8, 9),\n",
       " (4, 5, 6, 7),\n",
       " (4, 5, 6, 8),\n",
       " (4, 5, 6, 9),\n",
       " (4, 5, 7, 8),\n",
       " (4, 5, 7, 9),\n",
       " (4, 5, 8, 9),\n",
       " (4, 6, 7, 8),\n",
       " (4, 6, 7, 9),\n",
       " (4, 6, 8, 9),\n",
       " (4, 7, 8, 9),\n",
       " (5, 6, 7, 8),\n",
       " (5, 6, 7, 9),\n",
       " (5, 6, 8, 9),\n",
       " (5, 7, 8, 9),\n",
       " (6, 7, 8, 9),\n",
       " (0, 1, 2, 3, 4),\n",
       " (0, 1, 2, 3, 5),\n",
       " (0, 1, 2, 3, 6),\n",
       " (0, 1, 2, 3, 7),\n",
       " (0, 1, 2, 3, 8),\n",
       " (0, 1, 2, 3, 9),\n",
       " (0, 1, 2, 4, 5),\n",
       " (0, 1, 2, 4, 6),\n",
       " (0, 1, 2, 4, 7),\n",
       " (0, 1, 2, 4, 8),\n",
       " (0, 1, 2, 4, 9),\n",
       " (0, 1, 2, 5, 6),\n",
       " (0, 1, 2, 5, 7),\n",
       " (0, 1, 2, 5, 8),\n",
       " (0, 1, 2, 5, 9),\n",
       " (0, 1, 2, 6, 7),\n",
       " (0, 1, 2, 6, 8),\n",
       " (0, 1, 2, 6, 9),\n",
       " (0, 1, 2, 7, 8),\n",
       " (0, 1, 2, 7, 9),\n",
       " (0, 1, 2, 8, 9),\n",
       " (0, 1, 3, 4, 5),\n",
       " (0, 1, 3, 4, 6),\n",
       " (0, 1, 3, 4, 7),\n",
       " (0, 1, 3, 4, 8),\n",
       " (0, 1, 3, 4, 9),\n",
       " (0, 1, 3, 5, 6),\n",
       " (0, 1, 3, 5, 7),\n",
       " (0, 1, 3, 5, 8),\n",
       " (0, 1, 3, 5, 9),\n",
       " (0, 1, 3, 6, 7),\n",
       " (0, 1, 3, 6, 8),\n",
       " (0, 1, 3, 6, 9),\n",
       " (0, 1, 3, 7, 8),\n",
       " (0, 1, 3, 7, 9),\n",
       " (0, 1, 3, 8, 9),\n",
       " (0, 1, 4, 5, 6),\n",
       " (0, 1, 4, 5, 7),\n",
       " (0, 1, 4, 5, 8),\n",
       " (0, 1, 4, 5, 9),\n",
       " (0, 1, 4, 6, 7),\n",
       " (0, 1, 4, 6, 8),\n",
       " (0, 1, 4, 6, 9),\n",
       " (0, 1, 4, 7, 8),\n",
       " (0, 1, 4, 7, 9),\n",
       " (0, 1, 4, 8, 9),\n",
       " (0, 1, 5, 6, 7),\n",
       " (0, 1, 5, 6, 8),\n",
       " (0, 1, 5, 6, 9),\n",
       " (0, 1, 5, 7, 8),\n",
       " (0, 1, 5, 7, 9),\n",
       " (0, 1, 5, 8, 9),\n",
       " (0, 1, 6, 7, 8),\n",
       " (0, 1, 6, 7, 9),\n",
       " (0, 1, 6, 8, 9),\n",
       " (0, 1, 7, 8, 9),\n",
       " (0, 2, 3, 4, 5),\n",
       " (0, 2, 3, 4, 6),\n",
       " (0, 2, 3, 4, 7),\n",
       " (0, 2, 3, 4, 8),\n",
       " (0, 2, 3, 4, 9),\n",
       " (0, 2, 3, 5, 6),\n",
       " (0, 2, 3, 5, 7),\n",
       " (0, 2, 3, 5, 8),\n",
       " (0, 2, 3, 5, 9),\n",
       " (0, 2, 3, 6, 7),\n",
       " (0, 2, 3, 6, 8),\n",
       " (0, 2, 3, 6, 9),\n",
       " (0, 2, 3, 7, 8),\n",
       " (0, 2, 3, 7, 9),\n",
       " (0, 2, 3, 8, 9),\n",
       " (0, 2, 4, 5, 6),\n",
       " (0, 2, 4, 5, 7),\n",
       " (0, 2, 4, 5, 8),\n",
       " (0, 2, 4, 5, 9),\n",
       " (0, 2, 4, 6, 7),\n",
       " (0, 2, 4, 6, 8),\n",
       " (0, 2, 4, 6, 9),\n",
       " (0, 2, 4, 7, 8),\n",
       " (0, 2, 4, 7, 9),\n",
       " (0, 2, 4, 8, 9),\n",
       " (0, 2, 5, 6, 7),\n",
       " (0, 2, 5, 6, 8),\n",
       " (0, 2, 5, 6, 9),\n",
       " (0, 2, 5, 7, 8),\n",
       " (0, 2, 5, 7, 9),\n",
       " (0, 2, 5, 8, 9),\n",
       " (0, 2, 6, 7, 8),\n",
       " (0, 2, 6, 7, 9),\n",
       " (0, 2, 6, 8, 9),\n",
       " (0, 2, 7, 8, 9),\n",
       " (0, 3, 4, 5, 6),\n",
       " (0, 3, 4, 5, 7),\n",
       " (0, 3, 4, 5, 8),\n",
       " (0, 3, 4, 5, 9),\n",
       " (0, 3, 4, 6, 7),\n",
       " (0, 3, 4, 6, 8),\n",
       " (0, 3, 4, 6, 9),\n",
       " (0, 3, 4, 7, 8),\n",
       " (0, 3, 4, 7, 9),\n",
       " (0, 3, 4, 8, 9),\n",
       " (0, 3, 5, 6, 7),\n",
       " (0, 3, 5, 6, 8),\n",
       " (0, 3, 5, 6, 9),\n",
       " (0, 3, 5, 7, 8),\n",
       " (0, 3, 5, 7, 9),\n",
       " (0, 3, 5, 8, 9),\n",
       " (0, 3, 6, 7, 8),\n",
       " (0, 3, 6, 7, 9),\n",
       " (0, 3, 6, 8, 9),\n",
       " (0, 3, 7, 8, 9),\n",
       " (0, 4, 5, 6, 7),\n",
       " (0, 4, 5, 6, 8),\n",
       " (0, 4, 5, 6, 9),\n",
       " (0, 4, 5, 7, 8),\n",
       " (0, 4, 5, 7, 9),\n",
       " (0, 4, 5, 8, 9),\n",
       " (0, 4, 6, 7, 8),\n",
       " (0, 4, 6, 7, 9),\n",
       " (0, 4, 6, 8, 9),\n",
       " (0, 4, 7, 8, 9),\n",
       " (0, 5, 6, 7, 8),\n",
       " (0, 5, 6, 7, 9),\n",
       " (0, 5, 6, 8, 9),\n",
       " (0, 5, 7, 8, 9),\n",
       " (0, 6, 7, 8, 9),\n",
       " (1, 2, 3, 4, 5),\n",
       " (1, 2, 3, 4, 6),\n",
       " (1, 2, 3, 4, 7),\n",
       " (1, 2, 3, 4, 8),\n",
       " (1, 2, 3, 4, 9),\n",
       " (1, 2, 3, 5, 6),\n",
       " (1, 2, 3, 5, 7),\n",
       " (1, 2, 3, 5, 8),\n",
       " (1, 2, 3, 5, 9),\n",
       " (1, 2, 3, 6, 7),\n",
       " (1, 2, 3, 6, 8),\n",
       " (1, 2, 3, 6, 9),\n",
       " (1, 2, 3, 7, 8),\n",
       " (1, 2, 3, 7, 9),\n",
       " (1, 2, 3, 8, 9),\n",
       " (1, 2, 4, 5, 6),\n",
       " (1, 2, 4, 5, 7),\n",
       " (1, 2, 4, 5, 8),\n",
       " (1, 2, 4, 5, 9),\n",
       " (1, 2, 4, 6, 7),\n",
       " (1, 2, 4, 6, 8),\n",
       " (1, 2, 4, 6, 9),\n",
       " (1, 2, 4, 7, 8),\n",
       " (1, 2, 4, 7, 9),\n",
       " (1, 2, 4, 8, 9),\n",
       " (1, 2, 5, 6, 7),\n",
       " (1, 2, 5, 6, 8),\n",
       " (1, 2, 5, 6, 9),\n",
       " (1, 2, 5, 7, 8),\n",
       " (1, 2, 5, 7, 9),\n",
       " (1, 2, 5, 8, 9),\n",
       " (1, 2, 6, 7, 8),\n",
       " (1, 2, 6, 7, 9),\n",
       " (1, 2, 6, 8, 9),\n",
       " (1, 2, 7, 8, 9),\n",
       " (1, 3, 4, 5, 6),\n",
       " (1, 3, 4, 5, 7),\n",
       " (1, 3, 4, 5, 8),\n",
       " (1, 3, 4, 5, 9),\n",
       " (1, 3, 4, 6, 7),\n",
       " (1, 3, 4, 6, 8),\n",
       " (1, 3, 4, 6, 9),\n",
       " (1, 3, 4, 7, 8),\n",
       " (1, 3, 4, 7, 9),\n",
       " (1, 3, 4, 8, 9),\n",
       " (1, 3, 5, 6, 7),\n",
       " (1, 3, 5, 6, 8),\n",
       " (1, 3, 5, 6, 9),\n",
       " (1, 3, 5, 7, 8),\n",
       " (1, 3, 5, 7, 9),\n",
       " (1, 3, 5, 8, 9),\n",
       " (1, 3, 6, 7, 8),\n",
       " (1, 3, 6, 7, 9),\n",
       " (1, 3, 6, 8, 9),\n",
       " (1, 3, 7, 8, 9),\n",
       " (1, 4, 5, 6, 7),\n",
       " (1, 4, 5, 6, 8),\n",
       " (1, 4, 5, 6, 9),\n",
       " (1, 4, 5, 7, 8),\n",
       " (1, 4, 5, 7, 9),\n",
       " (1, 4, 5, 8, 9),\n",
       " (1, 4, 6, 7, 8),\n",
       " (1, 4, 6, 7, 9),\n",
       " (1, 4, 6, 8, 9),\n",
       " (1, 4, 7, 8, 9),\n",
       " (1, 5, 6, 7, 8),\n",
       " (1, 5, 6, 7, 9),\n",
       " (1, 5, 6, 8, 9),\n",
       " (1, 5, 7, 8, 9),\n",
       " (1, 6, 7, 8, 9),\n",
       " (2, 3, 4, 5, 6),\n",
       " (2, 3, 4, 5, 7),\n",
       " (2, 3, 4, 5, 8),\n",
       " (2, 3, 4, 5, 9),\n",
       " (2, 3, 4, 6, 7),\n",
       " (2, 3, 4, 6, 8),\n",
       " (2, 3, 4, 6, 9),\n",
       " (2, 3, 4, 7, 8),\n",
       " (2, 3, 4, 7, 9),\n",
       " (2, 3, 4, 8, 9),\n",
       " (2, 3, 5, 6, 7),\n",
       " (2, 3, 5, 6, 8),\n",
       " (2, 3, 5, 6, 9),\n",
       " (2, 3, 5, 7, 8),\n",
       " (2, 3, 5, 7, 9),\n",
       " (2, 3, 5, 8, 9),\n",
       " (2, 3, 6, 7, 8),\n",
       " (2, 3, 6, 7, 9),\n",
       " (2, 3, 6, 8, 9),\n",
       " (2, 3, 7, 8, 9),\n",
       " (2, 4, 5, 6, 7),\n",
       " (2, 4, 5, 6, 8),\n",
       " (2, 4, 5, 6, 9),\n",
       " (2, 4, 5, 7, 8),\n",
       " (2, 4, 5, 7, 9),\n",
       " (2, 4, 5, 8, 9),\n",
       " (2, 4, 6, 7, 8),\n",
       " (2, 4, 6, 7, 9),\n",
       " (2, 4, 6, 8, 9),\n",
       " (2, 4, 7, 8, 9),\n",
       " (2, 5, 6, 7, 8),\n",
       " (2, 5, 6, 7, 9),\n",
       " (2, 5, 6, 8, 9),\n",
       " (2, 5, 7, 8, 9),\n",
       " (2, 6, 7, 8, 9),\n",
       " (3, 4, 5, 6, 7),\n",
       " (3, 4, 5, 6, 8),\n",
       " (3, 4, 5, 6, 9),\n",
       " (3, 4, 5, 7, 8),\n",
       " (3, 4, 5, 7, 9),\n",
       " (3, 4, 5, 8, 9),\n",
       " (3, 4, 6, 7, 8),\n",
       " (3, 4, 6, 7, 9),\n",
       " (3, 4, 6, 8, 9),\n",
       " (3, 4, 7, 8, 9),\n",
       " (3, 5, 6, 7, 8),\n",
       " (3, 5, 6, 7, 9),\n",
       " (3, 5, 6, 8, 9),\n",
       " (3, 5, 7, 8, 9),\n",
       " (3, 6, 7, 8, 9),\n",
       " (4, 5, 6, 7, 8),\n",
       " (4, 5, 6, 7, 9),\n",
       " (4, 5, 6, 8, 9),\n",
       " (4, 5, 7, 8, 9),\n",
       " (4, 6, 7, 8, 9),\n",
       " (5, 6, 7, 8, 9),\n",
       " (0, 1, 2, 3, 4, 5),\n",
       " (0, 1, 2, 3, 4, 6),\n",
       " (0, 1, 2, 3, 4, 7),\n",
       " (0, 1, 2, 3, 4, 8),\n",
       " (0, 1, 2, 3, 4, 9),\n",
       " (0, 1, 2, 3, 5, 6),\n",
       " (0, 1, 2, 3, 5, 7),\n",
       " (0, 1, 2, 3, 5, 8),\n",
       " (0, 1, 2, 3, 5, 9),\n",
       " (0, 1, 2, 3, 6, 7),\n",
       " (0, 1, 2, 3, 6, 8),\n",
       " (0, 1, 2, 3, 6, 9),\n",
       " (0, 1, 2, 3, 7, 8),\n",
       " (0, 1, 2, 3, 7, 9),\n",
       " (0, 1, 2, 3, 8, 9),\n",
       " (0, 1, 2, 4, 5, 6),\n",
       " (0, 1, 2, 4, 5, 7),\n",
       " (0, 1, 2, 4, 5, 8),\n",
       " (0, 1, 2, 4, 5, 9),\n",
       " (0, 1, 2, 4, 6, 7),\n",
       " (0, 1, 2, 4, 6, 8),\n",
       " (0, 1, 2, 4, 6, 9),\n",
       " (0, 1, 2, 4, 7, 8),\n",
       " (0, 1, 2, 4, 7, 9),\n",
       " (0, 1, 2, 4, 8, 9),\n",
       " (0, 1, 2, 5, 6, 7),\n",
       " (0, 1, 2, 5, 6, 8),\n",
       " (0, 1, 2, 5, 6, 9),\n",
       " (0, 1, 2, 5, 7, 8),\n",
       " (0, 1, 2, 5, 7, 9),\n",
       " (0, 1, 2, 5, 8, 9),\n",
       " (0, 1, 2, 6, 7, 8),\n",
       " (0, 1, 2, 6, 7, 9),\n",
       " (0, 1, 2, 6, 8, 9),\n",
       " (0, 1, 2, 7, 8, 9),\n",
       " (0, 1, 3, 4, 5, 6),\n",
       " (0, 1, 3, 4, 5, 7),\n",
       " (0, 1, 3, 4, 5, 8),\n",
       " (0, 1, 3, 4, 5, 9),\n",
       " (0, 1, 3, 4, 6, 7),\n",
       " (0, 1, 3, 4, 6, 8),\n",
       " (0, 1, 3, 4, 6, 9),\n",
       " (0, 1, 3, 4, 7, 8),\n",
       " (0, 1, 3, 4, 7, 9),\n",
       " (0, 1, 3, 4, 8, 9),\n",
       " (0, 1, 3, 5, 6, 7),\n",
       " (0, 1, 3, 5, 6, 8),\n",
       " (0, 1, 3, 5, 6, 9),\n",
       " (0, 1, 3, 5, 7, 8),\n",
       " (0, 1, 3, 5, 7, 9),\n",
       " (0, 1, 3, 5, 8, 9),\n",
       " (0, 1, 3, 6, 7, 8),\n",
       " (0, 1, 3, 6, 7, 9),\n",
       " (0, 1, 3, 6, 8, 9),\n",
       " (0, 1, 3, 7, 8, 9),\n",
       " (0, 1, 4, 5, 6, 7),\n",
       " (0, 1, 4, 5, 6, 8),\n",
       " (0, 1, 4, 5, 6, 9),\n",
       " (0, 1, 4, 5, 7, 8),\n",
       " (0, 1, 4, 5, 7, 9),\n",
       " (0, 1, 4, 5, 8, 9),\n",
       " (0, 1, 4, 6, 7, 8),\n",
       " (0, 1, 4, 6, 7, 9),\n",
       " (0, 1, 4, 6, 8, 9),\n",
       " (0, 1, 4, 7, 8, 9),\n",
       " (0, 1, 5, 6, 7, 8),\n",
       " (0, 1, 5, 6, 7, 9),\n",
       " (0, 1, 5, 6, 8, 9),\n",
       " (0, 1, 5, 7, 8, 9),\n",
       " (0, 1, 6, 7, 8, 9),\n",
       " (0, 2, 3, 4, 5, 6),\n",
       " (0, 2, 3, 4, 5, 7),\n",
       " (0, 2, 3, 4, 5, 8),\n",
       " (0, 2, 3, 4, 5, 9),\n",
       " (0, 2, 3, 4, 6, 7),\n",
       " (0, 2, 3, 4, 6, 8),\n",
       " (0, 2, 3, 4, 6, 9),\n",
       " (0, 2, 3, 4, 7, 8),\n",
       " (0, 2, 3, 4, 7, 9),\n",
       " (0, 2, 3, 4, 8, 9),\n",
       " (0, 2, 3, 5, 6, 7),\n",
       " (0, 2, 3, 5, 6, 8),\n",
       " (0, 2, 3, 5, 6, 9),\n",
       " (0, 2, 3, 5, 7, 8),\n",
       " (0, 2, 3, 5, 7, 9),\n",
       " (0, 2, 3, 5, 8, 9),\n",
       " (0, 2, 3, 6, 7, 8),\n",
       " (0, 2, 3, 6, 7, 9),\n",
       " (0, 2, 3, 6, 8, 9),\n",
       " (0, 2, 3, 7, 8, 9),\n",
       " (0, 2, 4, 5, 6, 7),\n",
       " (0, 2, 4, 5, 6, 8),\n",
       " (0, 2, 4, 5, 6, 9),\n",
       " (0, 2, 4, 5, 7, 8),\n",
       " (0, 2, 4, 5, 7, 9),\n",
       " (0, 2, 4, 5, 8, 9),\n",
       " (0, 2, 4, 6, 7, 8),\n",
       " (0, 2, 4, 6, 7, 9),\n",
       " (0, 2, 4, 6, 8, 9),\n",
       " (0, 2, 4, 7, 8, 9),\n",
       " (0, 2, 5, 6, 7, 8),\n",
       " (0, 2, 5, 6, 7, 9),\n",
       " (0, 2, 5, 6, 8, 9),\n",
       " (0, 2, 5, 7, 8, 9),\n",
       " (0, 2, 6, 7, 8, 9),\n",
       " (0, 3, 4, 5, 6, 7),\n",
       " (0, 3, 4, 5, 6, 8),\n",
       " (0, 3, 4, 5, 6, 9),\n",
       " (0, 3, 4, 5, 7, 8),\n",
       " (0, 3, 4, 5, 7, 9),\n",
       " (0, 3, 4, 5, 8, 9),\n",
       " (0, 3, 4, 6, 7, 8),\n",
       " (0, 3, 4, 6, 7, 9),\n",
       " (0, 3, 4, 6, 8, 9),\n",
       " (0, 3, 4, 7, 8, 9),\n",
       " (0, 3, 5, 6, 7, 8),\n",
       " (0, 3, 5, 6, 7, 9),\n",
       " (0, 3, 5, 6, 8, 9),\n",
       " (0, 3, 5, 7, 8, 9),\n",
       " (0, 3, 6, 7, 8, 9),\n",
       " (0, 4, 5, 6, 7, 8),\n",
       " (0, 4, 5, 6, 7, 9),\n",
       " (0, 4, 5, 6, 8, 9),\n",
       " (0, 4, 5, 7, 8, 9),\n",
       " (0, 4, 6, 7, 8, 9),\n",
       " (0, 5, 6, 7, 8, 9),\n",
       " (1, 2, 3, 4, 5, 6),\n",
       " (1, 2, 3, 4, 5, 7),\n",
       " (1, 2, 3, 4, 5, 8),\n",
       " (1, 2, 3, 4, 5, 9),\n",
       " (1, 2, 3, 4, 6, 7),\n",
       " (1, 2, 3, 4, 6, 8),\n",
       " (1, 2, 3, 4, 6, 9),\n",
       " (1, 2, 3, 4, 7, 8),\n",
       " (1, 2, 3, 4, 7, 9),\n",
       " (1, 2, 3, 4, 8, 9),\n",
       " (1, 2, 3, 5, 6, 7),\n",
       " (1, 2, 3, 5, 6, 8),\n",
       " (1, 2, 3, 5, 6, 9),\n",
       " (1, 2, 3, 5, 7, 8),\n",
       " (1, 2, 3, 5, 7, 9),\n",
       " (1, 2, 3, 5, 8, 9),\n",
       " (1, 2, 3, 6, 7, 8),\n",
       " (1, 2, 3, 6, 7, 9),\n",
       " (1, 2, 3, 6, 8, 9),\n",
       " (1, 2, 3, 7, 8, 9),\n",
       " (1, 2, 4, 5, 6, 7),\n",
       " (1, 2, 4, 5, 6, 8),\n",
       " (1, 2, 4, 5, 6, 9),\n",
       " (1, 2, 4, 5, 7, 8),\n",
       " (1, 2, 4, 5, 7, 9),\n",
       " (1, 2, 4, 5, 8, 9),\n",
       " (1, 2, 4, 6, 7, 8),\n",
       " (1, 2, 4, 6, 7, 9),\n",
       " (1, 2, 4, 6, 8, 9),\n",
       " (1, 2, 4, 7, 8, 9),\n",
       " (1, 2, 5, 6, 7, 8),\n",
       " (1, 2, 5, 6, 7, 9),\n",
       " (1, 2, 5, 6, 8, 9),\n",
       " (1, 2, 5, 7, 8, 9),\n",
       " (1, 2, 6, 7, 8, 9),\n",
       " (1, 3, 4, 5, 6, 7),\n",
       " (1, 3, 4, 5, 6, 8),\n",
       " (1, 3, 4, 5, 6, 9),\n",
       " (1, 3, 4, 5, 7, 8),\n",
       " (1, 3, 4, 5, 7, 9),\n",
       " (1, 3, 4, 5, 8, 9),\n",
       " (1, 3, 4, 6, 7, 8),\n",
       " (1, 3, 4, 6, 7, 9),\n",
       " (1, 3, 4, 6, 8, 9),\n",
       " (1, 3, 4, 7, 8, 9),\n",
       " (1, 3, 5, 6, 7, 8),\n",
       " (1, 3, 5, 6, 7, 9),\n",
       " (1, 3, 5, 6, 8, 9),\n",
       " (1, 3, 5, 7, 8, 9),\n",
       " (1, 3, 6, 7, 8, 9),\n",
       " (1, 4, 5, 6, 7, 8),\n",
       " (1, 4, 5, 6, 7, 9),\n",
       " (1, 4, 5, 6, 8, 9),\n",
       " (1, 4, 5, 7, 8, 9),\n",
       " (1, 4, 6, 7, 8, 9),\n",
       " (1, 5, 6, 7, 8, 9),\n",
       " (2, 3, 4, 5, 6, 7),\n",
       " (2, 3, 4, 5, 6, 8),\n",
       " (2, 3, 4, 5, 6, 9),\n",
       " (2, 3, 4, 5, 7, 8),\n",
       " (2, 3, 4, 5, 7, 9),\n",
       " (2, 3, 4, 5, 8, 9),\n",
       " (2, 3, 4, 6, 7, 8),\n",
       " (2, 3, 4, 6, 7, 9),\n",
       " (2, 3, 4, 6, 8, 9),\n",
       " (2, 3, 4, 7, 8, 9),\n",
       " (2, 3, 5, 6, 7, 8),\n",
       " (2, 3, 5, 6, 7, 9),\n",
       " (2, 3, 5, 6, 8, 9),\n",
       " (2, 3, 5, 7, 8, 9),\n",
       " (2, 3, 6, 7, 8, 9),\n",
       " (2, 4, 5, 6, 7, 8),\n",
       " (2, 4, 5, 6, 7, 9),\n",
       " (2, 4, 5, 6, 8, 9),\n",
       " (2, 4, 5, 7, 8, 9),\n",
       " (2, 4, 6, 7, 8, 9),\n",
       " (2, 5, 6, 7, 8, 9),\n",
       " (3, 4, 5, 6, 7, 8),\n",
       " (3, 4, 5, 6, 7, 9),\n",
       " (3, 4, 5, 6, 8, 9),\n",
       " (3, 4, 5, 7, 8, 9),\n",
       " (3, 4, 6, 7, 8, 9),\n",
       " (3, 5, 6, 7, 8, 9),\n",
       " (4, 5, 6, 7, 8, 9),\n",
       " (0, 1, 2, 3, 4, 5, 6),\n",
       " (0, 1, 2, 3, 4, 5, 7),\n",
       " (0, 1, 2, 3, 4, 5, 8),\n",
       " (0, 1, 2, 3, 4, 5, 9),\n",
       " (0, 1, 2, 3, 4, 6, 7),\n",
       " (0, 1, 2, 3, 4, 6, 8),\n",
       " (0, 1, 2, 3, 4, 6, 9),\n",
       " (0, 1, 2, 3, 4, 7, 8),\n",
       " (0, 1, 2, 3, 4, 7, 9),\n",
       " (0, 1, 2, 3, 4, 8, 9),\n",
       " (0, 1, 2, 3, 5, 6, 7),\n",
       " (0, 1, 2, 3, 5, 6, 8),\n",
       " (0, 1, 2, 3, 5, 6, 9),\n",
       " (0, 1, 2, 3, 5, 7, 8),\n",
       " (0, 1, 2, 3, 5, 7, 9),\n",
       " (0, 1, 2, 3, 5, 8, 9),\n",
       " (0, 1, 2, 3, 6, 7, 8),\n",
       " (0, 1, 2, 3, 6, 7, 9),\n",
       " (0, 1, 2, 3, 6, 8, 9),\n",
       " (0, 1, 2, 3, 7, 8, 9),\n",
       " (0, 1, 2, 4, 5, 6, 7),\n",
       " (0, 1, 2, 4, 5, 6, 8),\n",
       " (0, 1, 2, 4, 5, 6, 9),\n",
       " (0, 1, 2, 4, 5, 7, 8),\n",
       " (0, 1, 2, 4, 5, 7, 9),\n",
       " (0, 1, 2, 4, 5, 8, 9),\n",
       " (0, 1, 2, 4, 6, 7, 8),\n",
       " (0, 1, 2, 4, 6, 7, 9),\n",
       " (0, 1, 2, 4, 6, 8, 9),\n",
       " (0, 1, 2, 4, 7, 8, 9),\n",
       " (0, 1, 2, 5, 6, 7, 8),\n",
       " (0, 1, 2, 5, 6, 7, 9),\n",
       " (0, 1, 2, 5, 6, 8, 9),\n",
       " (0, 1, 2, 5, 7, 8, 9),\n",
       " (0, 1, 2, 6, 7, 8, 9),\n",
       " (0, 1, 3, 4, 5, 6, 7),\n",
       " (0, 1, 3, 4, 5, 6, 8),\n",
       " (0, 1, 3, 4, 5, 6, 9),\n",
       " (0, 1, 3, 4, 5, 7, 8),\n",
       " (0, 1, 3, 4, 5, 7, 9),\n",
       " (0, 1, 3, 4, 5, 8, 9),\n",
       " (0, 1, 3, 4, 6, 7, 8),\n",
       " (0, 1, 3, 4, 6, 7, 9),\n",
       " (0, 1, 3, 4, 6, 8, 9),\n",
       " (0, 1, 3, 4, 7, 8, 9),\n",
       " (0, 1, 3, 5, 6, 7, 8),\n",
       " (0, 1, 3, 5, 6, 7, 9),\n",
       " (0, 1, 3, 5, 6, 8, 9),\n",
       " (0, 1, 3, 5, 7, 8, 9),\n",
       " (0, 1, 3, 6, 7, 8, 9),\n",
       " (0, 1, 4, 5, 6, 7, 8),\n",
       " (0, 1, 4, 5, 6, 7, 9),\n",
       " (0, 1, 4, 5, 6, 8, 9),\n",
       " (0, 1, 4, 5, 7, 8, 9),\n",
       " (0, 1, 4, 6, 7, 8, 9),\n",
       " (0, 1, 5, 6, 7, 8, 9),\n",
       " (0, 2, 3, 4, 5, 6, 7),\n",
       " (0, 2, 3, 4, 5, 6, 8),\n",
       " (0, 2, 3, 4, 5, 6, 9),\n",
       " (0, 2, 3, 4, 5, 7, 8),\n",
       " (0, 2, 3, 4, 5, 7, 9),\n",
       " (0, 2, 3, 4, 5, 8, 9),\n",
       " (0, 2, 3, 4, 6, 7, 8),\n",
       " (0, 2, 3, 4, 6, 7, 9),\n",
       " (0, 2, 3, 4, 6, 8, 9),\n",
       " (0, 2, 3, 4, 7, 8, 9),\n",
       " (0, 2, 3, 5, 6, 7, 8),\n",
       " (0, 2, 3, 5, 6, 7, 9),\n",
       " (0, 2, 3, 5, 6, 8, 9),\n",
       " (0, 2, 3, 5, 7, 8, 9),\n",
       " (0, 2, 3, 6, 7, 8, 9),\n",
       " (0, 2, 4, 5, 6, 7, 8),\n",
       " (0, 2, 4, 5, 6, 7, 9),\n",
       " (0, 2, 4, 5, 6, 8, 9),\n",
       " (0, 2, 4, 5, 7, 8, 9),\n",
       " (0, 2, 4, 6, 7, 8, 9),\n",
       " (0, 2, 5, 6, 7, 8, 9),\n",
       " (0, 3, 4, 5, 6, 7, 8),\n",
       " (0, 3, 4, 5, 6, 7, 9),\n",
       " (0, 3, 4, 5, 6, 8, 9),\n",
       " (0, 3, 4, 5, 7, 8, 9),\n",
       " (0, 3, 4, 6, 7, 8, 9),\n",
       " (0, 3, 5, 6, 7, 8, 9),\n",
       " (0, 4, 5, 6, 7, 8, 9),\n",
       " (1, 2, 3, 4, 5, 6, 7),\n",
       " (1, 2, 3, 4, 5, 6, 8),\n",
       " (1, 2, 3, 4, 5, 6, 9),\n",
       " (1, 2, 3, 4, 5, 7, 8),\n",
       " (1, 2, 3, 4, 5, 7, 9),\n",
       " (1, 2, 3, 4, 5, 8, 9),\n",
       " (1, 2, 3, 4, 6, 7, 8),\n",
       " (1, 2, 3, 4, 6, 7, 9),\n",
       " (1, 2, 3, 4, 6, 8, 9),\n",
       " (1, 2, 3, 4, 7, 8, 9),\n",
       " (1, 2, 3, 5, 6, 7, 8),\n",
       " (1, 2, 3, 5, 6, 7, 9),\n",
       " (1, 2, 3, 5, 6, 8, 9),\n",
       " (1, 2, 3, 5, 7, 8, 9),\n",
       " (1, 2, 3, 6, 7, 8, 9),\n",
       " (1, 2, 4, 5, 6, 7, 8),\n",
       " (1, 2, 4, 5, 6, 7, 9),\n",
       " (1, 2, 4, 5, 6, 8, 9),\n",
       " (1, 2, 4, 5, 7, 8, 9),\n",
       " (1, 2, 4, 6, 7, 8, 9),\n",
       " (1, 2, 5, 6, 7, 8, 9),\n",
       " (1, 3, 4, 5, 6, 7, 8),\n",
       " (1, 3, 4, 5, 6, 7, 9),\n",
       " (1, 3, 4, 5, 6, 8, 9),\n",
       " (1, 3, 4, 5, 7, 8, 9),\n",
       " (1, 3, 4, 6, 7, 8, 9),\n",
       " (1, 3, 5, 6, 7, 8, 9),\n",
       " (1, 4, 5, 6, 7, 8, 9),\n",
       " (2, 3, 4, 5, 6, 7, 8),\n",
       " (2, 3, 4, 5, 6, 7, 9),\n",
       " (2, 3, 4, 5, 6, 8, 9),\n",
       " (2, 3, 4, 5, 7, 8, 9),\n",
       " (2, 3, 4, 6, 7, 8, 9),\n",
       " (2, 3, 5, 6, 7, 8, 9),\n",
       " (2, 4, 5, 6, 7, 8, 9),\n",
       " (3, 4, 5, 6, 7, 8, 9),\n",
       " (0, 1, 2, 3, 4, 5, 6, 7),\n",
       " (0, 1, 2, 3, 4, 5, 6, 8),\n",
       " (0, 1, 2, 3, 4, 5, 6, 9),\n",
       " (0, 1, 2, 3, 4, 5, 7, 8),\n",
       " (0, 1, 2, 3, 4, 5, 7, 9),\n",
       " (0, 1, 2, 3, 4, 5, 8, 9),\n",
       " (0, 1, 2, 3, 4, 6, 7, 8),\n",
       " (0, 1, 2, 3, 4, 6, 7, 9),\n",
       " (0, 1, 2, 3, 4, 6, 8, 9),\n",
       " (0, 1, 2, 3, 4, 7, 8, 9),\n",
       " (0, 1, 2, 3, 5, 6, 7, 8),\n",
       " (0, 1, 2, 3, 5, 6, 7, 9),\n",
       " (0, 1, 2, 3, 5, 6, 8, 9),\n",
       " (0, 1, 2, 3, 5, 7, 8, 9),\n",
       " (0, 1, 2, 3, 6, 7, 8, 9),\n",
       " (0, 1, 2, 4, 5, 6, 7, 8),\n",
       " (0, 1, 2, 4, 5, 6, 7, 9),\n",
       " (0, 1, 2, 4, 5, 6, 8, 9),\n",
       " (0, 1, 2, 4, 5, 7, 8, 9),\n",
       " (0, 1, 2, 4, 6, 7, 8, 9),\n",
       " (0, 1, 2, 5, 6, 7, 8, 9),\n",
       " (0, 1, 3, 4, 5, 6, 7, 8),\n",
       " (0, 1, 3, 4, 5, 6, 7, 9),\n",
       " (0, 1, 3, 4, 5, 6, 8, 9),\n",
       " (0, 1, 3, 4, 5, 7, 8, 9),\n",
       " (0, 1, 3, 4, 6, 7, 8, 9),\n",
       " (0, 1, 3, 5, 6, 7, 8, 9),\n",
       " (0, 1, 4, 5, 6, 7, 8, 9),\n",
       " (0, 2, 3, 4, 5, 6, 7, 8),\n",
       " (0, 2, 3, 4, 5, 6, 7, 9),\n",
       " (0, 2, 3, 4, 5, 6, 8, 9),\n",
       " (0, 2, 3, 4, 5, 7, 8, 9),\n",
       " ...]"
      ]
     },
     "execution_count": 65,
     "metadata": {},
     "output_type": "execute_result"
    }
   ],
   "source": [
    "def check_4_1(my_set, function_res):\n",
    "    if len(function_res) != len(set(map(frozenset, function_res))):\n",
    "        return False\n",
    "    if len(function_res) != 2 ** len(my_set):\n",
    "        return False\n",
    "    return all(x <= my_set for x in function_res)\n",
    "list(function_4_1(set(range(10))))"
   ]
  },
  {
   "cell_type": "markdown",
   "metadata": {},
   "source": [
    "#### Значение для формы"
   ]
  },
  {
   "cell_type": "code",
   "execution_count": 69,
   "metadata": {},
   "outputs": [
    {
     "name": "stdout",
     "output_type": "stream",
     "text": [
      "220416\n"
     ]
    }
   ],
   "source": [
    "print(sum([\n",
    "    len(subset) - sum(subset) + sum(subset) ** 2\n",
    "    for subset in function_4_1(set(range(2, 21, 3)))\n",
    "]))"
   ]
  },
  {
   "cell_type": "markdown",
   "metadata": {},
   "source": [
    "## Задание 4.2\n",
    "\n",
    "Напишите функцию раскладывающее число на простые множители\n",
    "\n",
    "по числу $n$ нужно вернуть список пар $(p_i, c_i)$ такой, что $\\prod_i~p_i^{c_i} = n$"
   ]
  },
  {
   "cell_type": "code",
   "execution_count": 58,
   "metadata": {},
   "outputs": [],
   "source": [
    "def  is_primeis_prime(n):\n",
    "    return n > 1 and all(n % i != 0 for i in range(2, n))\n",
    "\n",
    "def function_4_2(n):\n",
    "    origin = n \n",
    "    factors = []\n",
    "    for i in range(2,n+1):\n",
    "        while np.prod(factors) != origin: \n",
    "            if is_prime(i)==True:                \n",
    "                while n % i == 0 :\n",
    "                    n = n / i\n",
    "                    factors.append(i)\n",
    "                i += 1\n",
    "            else:\n",
    "                break\n",
    "    \n",
    "    return [[x,factors.count(x)] for x in set(factors)]"
   ]
  },
  {
   "cell_type": "code",
   "execution_count": 59,
   "metadata": {},
   "outputs": [],
   "source": [
    "def check_4_2(n, my_list):\n",
    "    prod = 1\n",
    "    for p, c in my_list:\n",
    "        if not is_prime(p):\n",
    "            return False\n",
    "        prod *= p ** c\n",
    "    return prod == n"
   ]
  },
  {
   "cell_type": "code",
   "execution_count": 60,
   "metadata": {},
   "outputs": [
    {
     "data": {
      "text/plain": [
       "True"
      ]
     },
     "execution_count": 60,
     "metadata": {},
     "output_type": "execute_result"
    }
   ],
   "source": [
    "check_4_2(10, function_4_2(10))"
   ]
  },
  {
   "cell_type": "code",
   "execution_count": 61,
   "metadata": {},
   "outputs": [
    {
     "data": {
      "text/plain": [
       "True"
      ]
     },
     "execution_count": 61,
     "metadata": {},
     "output_type": "execute_result"
    }
   ],
   "source": [
    "check_4_2(11690, function_4_2(11690))"
   ]
  },
  {
   "cell_type": "code",
   "execution_count": 62,
   "metadata": {},
   "outputs": [
    {
     "data": {
      "text/plain": [
       "True"
      ]
     },
     "execution_count": 62,
     "metadata": {},
     "output_type": "execute_result"
    }
   ],
   "source": [
    "check_4_2(254242, function_4_2(254242))"
   ]
  },
  {
   "cell_type": "markdown",
   "metadata": {},
   "source": [
    "#### Значение для формы"
   ]
  },
  {
   "cell_type": "code",
   "execution_count": 63,
   "metadata": {},
   "outputs": [
    {
     "name": "stdout",
     "output_type": "stream",
     "text": [
      "441711766194596082395824375185729628956870974218904739530401550323154733\n"
     ]
    }
   ],
   "source": [
    "print(sum(\n",
    "    (c + 1) ** (p - 1) * c - p\n",
    "    for p, c in function_4_2(7648)\n",
    "))"
   ]
  },
  {
   "cell_type": "code",
   "execution_count": null,
   "metadata": {},
   "outputs": [],
   "source": []
  }
 ],
 "metadata": {
  "kernelspec": {
   "display_name": "Python 3",
   "language": "python",
   "name": "python3"
  },
  "language_info": {
   "codemirror_mode": {
    "name": "ipython",
    "version": 3
   },
   "file_extension": ".py",
   "mimetype": "text/x-python",
   "name": "python",
   "nbconvert_exporter": "python",
   "pygments_lexer": "ipython3",
   "version": "3.7.0"
  }
 },
 "nbformat": 4,
 "nbformat_minor": 2
}
